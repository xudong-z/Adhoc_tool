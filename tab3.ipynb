{
 "cells": [
  {
   "cell_type": "code",
   "execution_count": null,
   "metadata": {
    "deletable": true,
    "editable": true
   },
   "outputs": [],
   "source": [
    "import numpy as np\n",
    "import pandas as pd\n",
    "import json\n",
    "import copy\n",
    "import math\n",
    "from collections import OrderedDict\n",
    "\n",
    "# import seaborn as sns\n",
    "from matplotlib import colors as colors\n",
    "import matplotlib.pyplot as plt\n",
    "import bqviz as bqv\n",
    "import bqplot as bqp\n",
    "\n",
    "from ipyleaflet import *\n",
    "from ipywidgets import *\n",
    "from traitlets import link\n",
    "from IPython.display import display\n",
    "from bqwidgets import TagsInput, AutoComplete\n",
    "\n",
    "from bql_query import *\n",
    "\n",
    "\n",
    "port_coordinates = pd.read_csv('port_lat_long.csv')\n",
    "df_meta = pd.read_excel('Mysteel_tickers.xlsx', sheetname='Mysteel_tickers').set_index('Ticker')\n",
    "# df_ts = create_inventory_df(df_meta.index[df_meta.infrastructure_metric == 'Inventory/Stock'].tolist(), start_date = '2015-01-01')\n",
    "# df_ts = df_ts[df_ts.index.weekday == 4].T\n",
    "# df_ts = pd.merge(df_meta, df_ts, left_index=True, right_index=True)\n"
   ]
  },
  {
   "cell_type": "code",
   "execution_count": null,
   "metadata": {
    "collapsed": false,
    "deletable": true,
    "editable": true,
    "jupyter": {
     "outputs_hidden": false
    }
   },
   "outputs": [],
   "source": [
    "tab3_w_select_datatype = HBox()\n",
    "tab3_datatype_Toggles = []\n",
    "\n",
    "def click_on_tab3_toggles(change):\n",
    "    owner = change['owner']\n",
    "    if change['new']:\n",
    "        owner.icon = 'check'      \n",
    "    else:\n",
    "        owner.icon = ''\n",
    "        \n",
    "def create_tab3_toggles(dimension):\n",
    "    tab3_toggle_box = HBox()\n",
    "    tab3_toggle_toggles = []\n",
    "    for dim in df_meta[dimension].dropna().unique():\n",
    "        if dim != 'Total of Total':\n",
    "            o1 = ToggleButton(description=dim, button_style='', value=True, icon='check', layout={'height': '28px'}) # 'success', 'info', 'warning', 'danger' or ''\n",
    "            o1.observe(click_on_tab3_toggles, 'value')\n",
    "            tab3_toggle_toggles.append(o1)  \n",
    "            tab3_toggle_box.children = [HTML('Select {}:'.format(dimension), layout=Layout(width='220px'))] + tab3_toggle_toggles\n",
    "        \n",
    "    return tab3_toggle_box\n",
    "\n",
    "\n",
    "\n",
    "\n",
    "\n",
    "tab3_toggles_box = VBox()\n",
    "tab3_toggles = []\n",
    "for dim in ['infrastructure_metric', 'Origin', 'Port_Destination_Region', 'Shape']:\n",
    "    tab3_toggles.append(create_tab3_toggles(dim))\n",
    "    \n",
    "metal_quality_slider = HBox([HTML('Select Iron Content: ', layout=Layout(width='220px')),\n",
    "                             FloatRangeSlider(value=[50, 62], min=40, max=67.0, step=0.1,\n",
    "                                              disabled=False, continuous_update=False, readout_format='.1f', layout = Layout(width='600px'))\n",
    "                            ])\n",
    "tab3_toggles.append(metal_quality_slider)    \n",
    "    \n",
    "tab3_toggles_box.children = tab3_toggles    \n",
    "tab3_toggles_box"
   ]
  },
  {
   "cell_type": "code",
   "execution_count": null,
   "metadata": {
    "collapsed": false,
    "deletable": true,
    "editable": true,
    "jupyter": {
     "outputs_hidden": false
    }
   },
   "outputs": [],
   "source": [
    "import io\n",
    "\n",
    "def display_HTML(df):\n",
    "    str_io = io.StringIO()\n",
    "    df.iloc[:10,:11].reset_index().to_html(buf=str_io, classes='table table-striped mystyle')\n",
    "    data_str = str_io.getvalue()\n",
    "    html_string = '''\n",
    "    <html>\n",
    "        <head><title>HTML Pandas Dataframe with CSS</title></head>\n",
    "        <link rel=\"stylesheet\" type=\"text/css\" href=\"df_style.css\"/>\n",
    "        <body>\n",
    "        {table}\n",
    "        </body>\n",
    "    </html>\n",
    "    '''\n",
    "    return HTML(value = html_string.format(table=data_str), layout=Layout(height='400px', flex_flow='column'))\n",
    "\n",
    "display_HTML(df_meta)"
   ]
  },
  {
   "cell_type": "code",
   "execution_count": null,
   "metadata": {
    "collapsed": false,
    "deletable": true,
    "editable": true,
    "jupyter": {
     "outputs_hidden": false
    }
   },
   "outputs": [],
   "source": []
  },
  {
   "cell_type": "code",
   "execution_count": null,
   "metadata": {
    "collapsed": true,
    "deletable": true,
    "editable": true,
    "jupyter": {
     "outputs_hidden": true
    }
   },
   "outputs": [],
   "source": []
  }
 ],
 "metadata": {
  "kernelspec": {
   "display_name": "Python 3 (sandboxed)",
   "language": "python",
   "name": "python3"
  },
  "language_info": {
   "codemirror_mode": {
    "name": "ipython",
    "version": 3
   },
   "file_extension": ".py",
   "mimetype": "text/x-python",
   "name": "python",
   "nbconvert_exporter": "python",
   "pygments_lexer": "ipython3",
   "version": "3.5.5"
  }
 },
 "nbformat": 4,
 "nbformat_minor": 4
}
