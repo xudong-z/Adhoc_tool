{
 "cells": [
  {
   "cell_type": "code",
   "execution_count": 2,
   "metadata": {},
   "outputs": [
    {
     "data": {
      "application/vnd.jupyter.widget-view+json": {
       "model_id": "4b528d9ad6eb4a66a5de2bbfd9d96781",
       "version_major": 2,
       "version_minor": 0
      },
      "text/plain": [
       "HTML(value='\\n    <html>\\n        <head><title>HTML Pandas Dataframe with CSS</title></head>\\n        <link re…"
      ]
     },
     "metadata": {},
     "output_type": "display_data"
    }
   ],
   "source": [
    "import io\n",
    "import pandas as pd\n",
    "from ipywidgets import *\n",
    "import numpy as np\n",
    "\n",
    "def display_HTML(df):\n",
    "    str_io = io.StringIO()\n",
    "    df.to_html(buf=str_io, classes='table table-striped mystyle')\n",
    "    data_str = str_io.getvalue()\n",
    "    html_string = '''\n",
    "    <html>\n",
    "        <head><title>HTML Pandas Dataframe with CSS</title></head>\n",
    "        <link rel=\"stylesheet\" type=\"text/css\" href=\"df_style.css\"/>\n",
    "        <body>\n",
    "        {table}\n",
    "        </body>\n",
    "    </html>\n",
    "    '''\n",
    "    return HTML(value = html_string.format(table=data_str), layout=Layout(height='400px', flex_flow='column'))\n",
    "\n",
    "\n",
    "\n",
    "df_test = pd.DataFrame(np.array([[1, 2, 3], [4, 5, 6], [7, 8, 9],\n",
    "                                [1, 2, 3], [4, 5, 6], [7, 8, 9],\n",
    "                                [1, 2, 3], [4, 5, 6], [7, 8, 9],\n",
    "                                [1, 2, 3], [4, 5, 6], [7, 8, 9]]),\n",
    "                    columns=['a', 'b', 'c'])\n",
    "\n",
    "display_HTML(df_test)"
   ]
  },
  {
   "cell_type": "code",
   "execution_count": null,
   "metadata": {},
   "outputs": [],
   "source": []
  }
 ],
 "metadata": {
  "kernelspec": {
   "display_name": "Python 3 (sandboxed)",
   "language": "python",
   "name": "python3"
  },
  "language_info": {
   "codemirror_mode": {
    "name": "ipython",
    "version": 3
   },
   "file_extension": ".py",
   "mimetype": "text/x-python",
   "name": "python",
   "nbconvert_exporter": "python",
   "pygments_lexer": "ipython3",
   "version": "3.5.5"
  }
 },
 "nbformat": 4,
 "nbformat_minor": 4
}
